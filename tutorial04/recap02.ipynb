{
 "cells": [
  {
   "cell_type": "markdown",
   "metadata": {},
   "source": [
    "# Recap\n",
    "\n",
    "Opakování základních a/nebo problematických pasáží z cvičení číslo 2."
   ]
  },
  {
   "cell_type": "markdown",
   "metadata": {},
   "source": [
    "## Function"
   ]
  },
  {
   "cell_type": "code",
   "execution_count": null,
   "metadata": {},
   "outputs": [],
   "source": [
    "# Definice funkce\n",
    "\n",
    "def add_one(number):\n",
    "    return number + 1"
   ]
  },
  {
   "cell_type": "code",
   "execution_count": null,
   "metadata": {},
   "outputs": [],
   "source": [
    "# Zavolani funkce\n",
    "add_one(2)"
   ]
  },
  {
   "cell_type": "markdown",
   "metadata": {},
   "source": [
    "## Asignments\n",
    "\n",
    "Následující buňky jsou ekvivalentní. Seznam operátorů, které umožňují tento typ přiřazení viz:\n",
    "\n",
    "https://python-reference.readthedocs.io/en/latest/docs/operators/index.html#assignment-operators"
   ]
  },
  {
   "cell_type": "code",
   "execution_count": null,
   "metadata": {},
   "outputs": [],
   "source": [
    "base = 3\n",
    "base = base ** 2\n",
    "base"
   ]
  },
  {
   "cell_type": "code",
   "execution_count": null,
   "metadata": {},
   "outputs": [],
   "source": [
    "base = 3\n",
    "base **= 2\n",
    "base"
   ]
  },
  {
   "cell_type": "markdown",
   "metadata": {},
   "source": [
    "## F-string\n",
    "\n",
    "Aka \"Yet another string formatting\". Pouze pro Python 3.6+.\n",
    "\n",
    "Nicméně toto řešení je oproti předchozím poměrně elegantní a nabízí široké možnosti, jak definovat \"dynamické\" řetězce."
   ]
  },
  {
   "cell_type": "code",
   "execution_count": null,
   "metadata": {},
   "outputs": [],
   "source": [
    "base = 3\n",
    "f\"Base: {base}, Power of 2: {base ** 2}\""
   ]
  },
  {
   "cell_type": "markdown",
   "metadata": {},
   "source": [
    "## Clarification time! Return values of or, and, not\n",
    "\n",
    "https://docs.python.org/release/3.7.1/library/stdtypes.html#truth-value-testing\n",
    "\n",
    "### or\n",
    "`x or y` ... if x is false, then y, else x"
   ]
  },
  {
   "cell_type": "code",
   "execution_count": null,
   "metadata": {},
   "outputs": [],
   "source": [
    "print(True or False)\n",
    "print(\"jmeno\" or True)\n",
    "print(True or \"jmeno\")\n",
    "print([] or [1])"
   ]
  },
  {
   "cell_type": "markdown",
   "metadata": {},
   "source": [
    "### and\n",
    "`x and y` ... if x is false, then x, else y"
   ]
  },
  {
   "cell_type": "code",
   "execution_count": null,
   "metadata": {},
   "outputs": [],
   "source": [
    "print(True and False)\n",
    "print(\"jmeno\" and True)\n",
    "print(True and \"jmeno\")\n",
    "print([] and [1])"
   ]
  },
  {
   "cell_type": "markdown",
   "metadata": {},
   "source": [
    "### not\n",
    "`not x` ... if x is false, then True, else False"
   ]
  },
  {
   "cell_type": "code",
   "execution_count": null,
   "metadata": {},
   "outputs": [],
   "source": [
    "print(not False)\n",
    "print(not \"jmeno\")\n",
    "print(not [])"
   ]
  }
 ],
 "metadata": {
  "kernelspec": {
   "display_name": "Python 3",
   "language": "python",
   "name": "python3"
  },
  "language_info": {
   "codemirror_mode": {
    "name": "ipython",
    "version": 3
   },
   "file_extension": ".py",
   "mimetype": "text/x-python",
   "name": "python",
   "nbconvert_exporter": "python",
   "pygments_lexer": "ipython3",
   "version": "3.7.1"
  }
 },
 "nbformat": 4,
 "nbformat_minor": 2
}
