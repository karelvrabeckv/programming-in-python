{
 "cells": [
  {
   "cell_type": "markdown",
   "metadata": {},
   "source": [
    "# Hustota obyvatelstva"
   ]
  },
  {
   "cell_type": "markdown",
   "metadata": {},
   "source": [
    "Úkolem tohoto cvičení je naučit se zpracovat související data, která jsou ale roztroušena po vícero souborech. Konkrétně bude naším úkolem spočítat hustotu obyvatel států světa, přičemž na vstupu budeme mít soubor s počty obyvatel u konkrétních zemí a soubor s rozlohou zemí. Aby to nebylo tak jednoduché, oba soubory nebudou obsahovat stejné země.\n",
    "\n",
    "Navíc se naučíme spočítané výsledky uložit pro pozdější použití pomocí modulu `pickle`. To je poměrně typický scénář – nějaká data budeme používat pro více pozdějších výpočtů, ale přitom je nejdříve musíme také nějakým (a „nejlépe“ časově náročným) způsobem získat. V tomto případě to sice není pravda, složení dat z obou souborů do výsledného slovníku je záležitost okamžiku, ale i tak není důvod uvedený výpočet provádět pořád znovu.\n",
    "\n",
    "Když už budeme mít připravenou „tabulku“ údajů o zemích světa, procvičíme si na ní ještě řazení podle různých způsobů, tedy použití parametru *key*."
   ]
  },
  {
   "cell_type": "markdown",
   "metadata": {},
   "source": [
    "### 1. Mějme k dispozici data o počtu obyvatel a rozloze několika světových států. Naším úkolem je oba uvedené soubory prozkoumat a získat o nich co nejvíce informací užitečných pro další zpracování. Především se pokusíme zjistit, kolik států je ve kterém souboru a kde který stát případně chybí (či naopak přebývá).\n",
    "\n",
    "Víme, že pokud se nějaký stát vyskytuje v obou souborech, má stejné jméno, ale jelikož jsou oba soubory seřazeny podle velikosti (od největšího čísla k nejmenšímu) podle svého zaměření, je pořadí států nepřekvapivě zcela rozdílné, takže bez bližšího prozkoumání toho moc dalšího nevíme.\n",
    "\n",
    "**Hint:** S výhodou můžete při řešení použít pythoního typu množina."
   ]
  },
  {
   "cell_type": "code",
   "execution_count": null,
   "metadata": {},
   "outputs": [],
   "source": [
    "staty_lidi = './staty_lidi.txt'\n",
    "staty_plochy = './staty_plochy.txt'"
   ]
  },
  {
   "cell_type": "code",
   "execution_count": null,
   "metadata": {
    "tags": [
     "solution"
    ]
   },
   "outputs": [],
   "source": [
    "# TODO: Implement your solution."
   ]
  },
  {
   "cell_type": "markdown",
   "metadata": {},
   "source": [
    "### 2. Zaznamenejte na výstup hustotu všech 261 států. Přičemž pro státy s chybějícím údajem o počtu obyvatel zaznamenejte jako hustotu otazníček. Výsledek zapište do CSV-souboru staty.csv (jako oddělovač použijte středník) a také – pro snadné pozdější zpracování – zapiklete do souboru staty.pickle.\n",
    "\n",
    "**Note:** Díky analýze z předchozího cvičení již nyní víme, že soubor počtu obyvatel neobsahuje žádný stát navíc oproti souboru s rozlohami. Naopak u rozloh je 24 států, ke kterým nemáme žádnou informaci o počtu obyvatel. To představuje drobný problém, jak uvedenou skutečnost zaznamenat do požadovaného výstupu o hustotách. Udání nuly totiž nemusí býti pravdivé – uvedená informace nám chybí, ale to neznamená, že na daných územích nikdo nežije.\n",
    "\n",
    "**Hint:** Vzhledem ke struktuře údajů se celkem logicky logicky nabízí uchovávat data ve slovníku (což ostatně děláme s plochami a lidmi už od prvního cvičení). Uvedený slovník pak také zapiklete na disk."
   ]
  },
  {
   "cell_type": "code",
   "execution_count": null,
   "metadata": {},
   "outputs": [],
   "source": [
    "zapiklovane_staty = 'staty.pickle'\n",
    "csv_staty = 'staty.csv'"
   ]
  },
  {
   "cell_type": "code",
   "execution_count": null,
   "metadata": {
    "tags": [
     "solution"
    ]
   },
   "outputs": [],
   "source": [
    "# TODO: Implement your solution."
   ]
  },
  {
   "cell_type": "markdown",
   "metadata": {},
   "source": [
    "### 3. Data o státech již máme zpracovaná. Načtěte je nyní ze zapikleného souboru a nechte je vypisovat seřazené podle různých kritérií:\n",
    "\n",
    "- podle názvu státu;\n",
    "- podle rozlohy;\n",
    "- podle počtu obyvatel;\n",
    "- podle hustoty.\n",
    "\n",
    "**Hint:** Kromě pochopení práce s piklením je toto cvičení především o řazení složitějších datových struktur v Python'u pomocí vhodně zvoleného parametru key. Jelikož některé případy jsou již slušně zamotané, obsahuje řešení i explicitní rozepsání lambda-funkce do externí pomocné funkce s (snad) názorným rozborem."
   ]
  },
  {
   "cell_type": "code",
   "execution_count": null,
   "metadata": {
    "scrolled": false,
    "tags": [
     "solution"
    ]
   },
   "outputs": [],
   "source": [
    "# TODO: Implement your solution."
   ]
  },
  {
   "cell_type": "code",
   "execution_count": null,
   "metadata": {
    "tags": [
     "solution"
    ]
   },
   "outputs": [],
   "source": [
    "# TODO: Implement your solution."
   ]
  },
  {
   "cell_type": "code",
   "execution_count": null,
   "metadata": {
    "tags": [
     "solution"
    ]
   },
   "outputs": [],
   "source": [
    "# TODO: Implement your solution."
   ]
  },
  {
   "cell_type": "code",
   "execution_count": null,
   "metadata": {
    "tags": [
     "solution"
    ]
   },
   "outputs": [],
   "source": [
    "# TODO: Implement your solution."
   ]
  }
 ],
 "metadata": {
  "kernelspec": {
   "display_name": "Python 3",
   "language": "python",
   "name": "python3"
  },
  "language_info": {
   "codemirror_mode": {
    "name": "ipython",
    "version": 3
   },
   "file_extension": ".py",
   "mimetype": "text/x-python",
   "name": "python",
   "nbconvert_exporter": "python",
   "pygments_lexer": "ipython3",
   "version": "3.7.1"
  }
 },
 "nbformat": 4,
 "nbformat_minor": 2
}
